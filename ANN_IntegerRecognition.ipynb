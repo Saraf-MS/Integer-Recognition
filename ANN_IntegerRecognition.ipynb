{
  "nbformat": 4,
  "nbformat_minor": 0,
  "metadata": {
    "colab": {
      "name": "ANN-IntegerRecognition.ipynb",
      "provenance": [],
      "collapsed_sections": [],
      "authorship_tag": "ABX9TyPY2zz5C8fGex8jV/8f8pUy",
      "include_colab_link": true
    },
    "kernelspec": {
      "name": "python3",
      "display_name": "Python 3"
    },
    "language_info": {
      "name": "python"
    }
  },
  "cells": [
    {
      "cell_type": "markdown",
      "metadata": {
        "id": "view-in-github",
        "colab_type": "text"
      },
      "source": [
        "<a href=\"https://colab.research.google.com/github/Saraf-MS/Integer-Recognition/blob/main/ANN_IntegerRecognition.ipynb\" target=\"_parent\"><img src=\"https://colab.research.google.com/assets/colab-badge.svg\" alt=\"Open In Colab\"/></a>"
      ]
    },
    {
      "cell_type": "markdown",
      "metadata": {
        "id": "GhDmvdnpCXFb"
      },
      "source": [
        "# WorkFlow of the document - \n",
        "\n",
        "\n",
        "\n",
        "1.   Import relevant libraries with proper version and check configuration . \n",
        "2.   Load data - using readily available  data .\n",
        "3.   Split data for taining validation and testing .\n",
        "4.   Checking shape , and visualize data .\n",
        "5.   Out of 6000 trainning images 5000 utilized for validation . For testing \n",
        "     separate 10,000 images .\n",
        "6.   Defining the layers for ANN and its details such as Activation function   of Nodes , name of layer .\n",
        "7.   We need the model as the Squential details .\n",
        "8.   Check summary to understand ANN details .\n",
        "9.   Compile Model , for which define Loss function , optimizers and metrics .\n",
        "10.  Train the model with training data define epochs number and validation data .\n",
        "11.  Evalute trained model with validation data .\n",
        "12.  Test the model with testing data .\n",
        "13.  Convert the code in modular program .\n",
        "    "
      ]
    },
    {
      "cell_type": "code",
      "metadata": {
        "id": "n3iHw3FI59zd"
      },
      "source": [
        "import tensorflow as tf"
      ],
      "execution_count": 1,
      "outputs": []
    },
    {
      "cell_type": "code",
      "metadata": {
        "colab": {
          "base_uri": "https://localhost:8080/",
          "height": 36
        },
        "id": "hp9LVW4G6DOP",
        "outputId": "259dab5d-292d-4dcb-ea31-19c0ebc24322"
      },
      "source": [
        "tf.__version__"
      ],
      "execution_count": 2,
      "outputs": [
        {
          "output_type": "execute_result",
          "data": {
            "application/vnd.google.colaboratory.intrinsic+json": {
              "type": "string"
            },
            "text/plain": [
              "'2.6.0'"
            ]
          },
          "metadata": {},
          "execution_count": 2
        }
      ]
    },
    {
      "cell_type": "code",
      "metadata": {
        "colab": {
          "base_uri": "https://localhost:8080/",
          "height": 36
        },
        "id": "xo8Sa1Jz6Fj5",
        "outputId": "8d62a108-a386-44cf-ac71-34aa281b5bd0"
      },
      "source": [
        "tf.keras.__version__"
      ],
      "execution_count": 3,
      "outputs": [
        {
          "output_type": "execute_result",
          "data": {
            "application/vnd.google.colaboratory.intrinsic+json": {
              "type": "string"
            },
            "text/plain": [
              "'2.6.0'"
            ]
          },
          "metadata": {},
          "execution_count": 3
        }
      ]
    },
    {
      "cell_type": "code",
      "metadata": {
        "id": "Sw5EZnau6JD0"
      },
      "source": [
        "import numpy as np\n",
        "import matplotlib.pyplot as plt\n",
        "import pandas as pd\n",
        "import seaborn as sns"
      ],
      "execution_count": 4,
      "outputs": []
    },
    {
      "cell_type": "code",
      "metadata": {
        "id": "nbW3L5e36M02"
      },
      "source": [
        "mnist = tf.keras.datasets.mnist"
      ],
      "execution_count": 5,
      "outputs": []
    },
    {
      "cell_type": "code",
      "metadata": {
        "id": "KPZiHa-b6S3p"
      },
      "source": [
        "(X_train_full ,  y_train_full) , (X_test , y_test) = mnist.load_data()"
      ],
      "execution_count": 7,
      "outputs": []
    },
    {
      "cell_type": "code",
      "metadata": {
        "colab": {
          "base_uri": "https://localhost:8080/"
        },
        "id": "cdXH3C4j6gZi",
        "outputId": "c5b4e667-2091-47e2-80b1-cf16b1a80331"
      },
      "source": [
        "X_train_full.shape"
      ],
      "execution_count": 8,
      "outputs": [
        {
          "output_type": "execute_result",
          "data": {
            "text/plain": [
              "(60000, 28, 28)"
            ]
          },
          "metadata": {},
          "execution_count": 8
        }
      ]
    },
    {
      "cell_type": "code",
      "metadata": {
        "colab": {
          "base_uri": "https://localhost:8080/",
          "height": 247
        },
        "id": "VDoQ9tVF6kwm",
        "outputId": "2c074766-d6f8-4bb2-eb99-5a203fdcd077"
      },
      "source": [
        "img = X_train_full[0]\n",
        "\n",
        "plt.imshow(img , cmap=\"binary\" )\n",
        "plt.axis(\"off\")\n",
        "plt.show()"
      ],
      "execution_count": 14,
      "outputs": [
        {
          "output_type": "display_data",
          "data": {
            "image/png": "[encoded data removed]",
            "text/plain": [
              "<Figure size 432x288 with 1 Axes>"
            ]
          },
          "metadata": {
            "needs_background": "light"
          }
        }
      ]
    },
    {
      "cell_type": "code",
      "metadata": {
        "colab": {
          "base_uri": "https://localhost:8080/",
          "height": 1000
        },
        "id": "I38VieVJ6pin",
        "outputId": "33ee8424-e35b-42fe-f472-dcf478ec39b6"
      },
      "source": [
        "plt.figure(figsize=(20,20))\n",
        "sns.heatmap( img/255. , annot=True , cmap=\"binary\")"
      ],
      "execution_count": 19,
      "outputs": [
        {
          "output_type": "execute_result",
          "data": {
            "text/plain": [
              "<matplotlib.axes._subplots.AxesSubplot at 0x7f3ec68f7090>"
            ]
          },
          "metadata": {},
          "execution_count": 19
        },
        {
          "output_type": "display_data",
          "data": {
            "image/png": "[encoded data removed]",
            "text/plain": [
              "<Figure size 1440x1440 with 2 Axes>"
            ]
          },
          "metadata": {
            "needs_background": "light"
          }
        }
      ]
    },
    {
      "cell_type": "code",
      "metadata": {
        "id": "B3xBmfKB7WxZ"
      },
      "source": [
        "X_valid, X_train = X_train_full[:5000] / 255., X_train_full[5000:] / 255.\n",
        "y_valid, y_train = y_train_full[:5000], y_train_full[5000:]\n",
        "\n",
        "\n",
        "X_test = X_test / 255."
      ],
      "execution_count": 20,
      "outputs": []
    },
    {
      "cell_type": "code",
      "metadata": {
        "id": "rJFcCbiV7wuj"
      },
      "source": [
        "Layers = [\n",
        "          tf.keras.layers.Flatten(input_shape=[28 , 28] ,name=\"inputLayer\"),\n",
        "          tf.keras.layers.Dense(300 , activation=\"relu\" , name=\"hiddenLayer1\"),\n",
        "          tf.keras.layers.Dense(100 , activation=\"relu\" , name=\"hiddenLayer2\"),\n",
        "          tf.keras.layers.Dense(10 , activation=\"softmax\" , name=\"outputLayer\")            \n",
        "]"
      ],
      "execution_count": 22,
      "outputs": []
    },
    {
      "cell_type": "code",
      "metadata": {
        "id": "syP83i3M7ww-"
      },
      "source": [
        "model_clf = tf.keras.models.Sequential(Layers)"
      ],
      "execution_count": 24,
      "outputs": []
    },
    {
      "cell_type": "code",
      "metadata": {
        "colab": {
          "base_uri": "https://localhost:8080/"
        },
        "id": "64Hy4H-07wzg",
        "outputId": "5f27f30b-1b79-45a2-fadd-1fa6cedd3046"
      },
      "source": [
        "model_clf.summary()"
      ],
      "execution_count": 26,
      "outputs": [
        {
          "output_type": "stream",
          "name": "stdout",
          "text": [
            "Model: \"sequential\"\n",
            "_________________________________________________________________\n",
            "Layer (type)                 Output Shape              Param #   \n",
            "=================================================================\n",
            "inputLayer (Flatten)         (None, 784)               0         \n",
            "_________________________________________________________________\n",
            "hiddenLayer1 (Dense)         (None, 300)               235500    \n",
            "_________________________________________________________________\n",
            "hiddenLayer2 (Dense)         (None, 100)               30100     \n",
            "_________________________________________________________________\n",
            "outputLayer (Dense)          (None, 10)                1010      \n",
            "=================================================================\n",
            "Total params: 266,610\n",
            "Trainable params: 266,610\n",
            "Non-trainable params: 0\n",
            "_________________________________________________________________\n"
          ]
        }
      ]
    },
    {
      "cell_type": "code",
      "metadata": {
        "id": "BtJMwjaJ9VZ5"
      },
      "source": [
        "Loss_FUNCTION = \"sparse_categorical_crossentropy\"\n",
        "OPTIMIZER =  \"SGD\"\n",
        "METRICS = [\"accuracy\"]\n",
        "\n",
        "model_clf.compile(loss=Loss_FUNCTION , optimizer=OPTIMIZER , metrics=METRICS)"
      ],
      "execution_count": 27,
      "outputs": []
    },
    {
      "cell_type": "code",
      "metadata": {
        "colab": {
          "base_uri": "https://localhost:8080/"
        },
        "id": "X1853qj_-DA8",
        "outputId": "b3aff3e5-b69f-4a0f-f92f-4cedc4a11e4e"
      },
      "source": [
        "EPOCHS = 30\n",
        "VALIDATION = (X_valid , y_valid)\n",
        "history = model_clf.fit(X_train , y_train , epochs=EPOCHS, validation_data=VALIDATION)\n"
      ],
      "execution_count": 30,
      "outputs": [
        {
          "output_type": "stream",
          "name": "stdout",
          "text": [
            "Epoch 1/30\n",
            "1719/1719 [==============================] - 6s 3ms/step - loss: 0.5987 - accuracy: 0.8449 - val_loss: 0.3059 - val_accuracy: 0.9134\n",
            "Epoch 2/30\n",
            "1719/1719 [==============================] - 5s 3ms/step - loss: 0.2869 - accuracy: 0.9177 - val_loss: 0.2411 - val_accuracy: 0.9316\n",
            "Epoch 3/30\n",
            "1719/1719 [==============================] - 5s 3ms/step - loss: 0.2332 - accuracy: 0.9337 - val_loss: 0.2009 - val_accuracy: 0.9448\n",
            "Epoch 4/30\n",
            "1719/1719 [==============================] - 5s 3ms/step - loss: 0.1989 - accuracy: 0.9435 - val_loss: 0.1733 - val_accuracy: 0.9498\n",
            "Epoch 5/30\n",
            "1719/1719 [==============================] - 5s 3ms/step - loss: 0.1740 - accuracy: 0.9505 - val_loss: 0.1532 - val_accuracy: 0.9578\n",
            "Epoch 6/30\n",
            "1719/1719 [==============================] - 5s 3ms/step - loss: 0.1542 - accuracy: 0.9557 - val_loss: 0.1426 - val_accuracy: 0.9624\n",
            "Epoch 7/30\n",
            "1719/1719 [==============================] - 5s 3ms/step - loss: 0.1386 - accuracy: 0.9601 - val_loss: 0.1293 - val_accuracy: 0.9662\n",
            "Epoch 8/30\n",
            "1719/1719 [==============================] - 5s 3ms/step - loss: 0.1253 - accuracy: 0.9640 - val_loss: 0.1220 - val_accuracy: 0.9668\n",
            "Epoch 9/30\n",
            "1719/1719 [==============================] - 5s 3ms/step - loss: 0.1142 - accuracy: 0.9680 - val_loss: 0.1128 - val_accuracy: 0.9708\n",
            "Epoch 10/30\n",
            "1719/1719 [==============================] - 5s 3ms/step - loss: 0.1049 - accuracy: 0.9706 - val_loss: 0.1077 - val_accuracy: 0.9724\n",
            "Epoch 11/30\n",
            "1719/1719 [==============================] - 5s 3ms/step - loss: 0.0958 - accuracy: 0.9727 - val_loss: 0.1024 - val_accuracy: 0.9722\n",
            "Epoch 12/30\n",
            "1719/1719 [==============================] - 5s 3ms/step - loss: 0.0889 - accuracy: 0.9747 - val_loss: 0.0974 - val_accuracy: 0.9734\n",
            "Epoch 13/30\n",
            "1719/1719 [==============================] - 5s 3ms/step - loss: 0.0824 - accuracy: 0.9772 - val_loss: 0.0932 - val_accuracy: 0.9748\n",
            "Epoch 14/30\n",
            "1719/1719 [==============================] - 5s 3ms/step - loss: 0.0764 - accuracy: 0.9789 - val_loss: 0.0883 - val_accuracy: 0.9758\n",
            "Epoch 15/30\n",
            "1719/1719 [==============================] - 5s 3ms/step - loss: 0.0711 - accuracy: 0.9807 - val_loss: 0.0878 - val_accuracy: 0.9744\n",
            "Epoch 16/30\n",
            "1719/1719 [==============================] - 5s 3ms/step - loss: 0.0664 - accuracy: 0.9816 - val_loss: 0.0830 - val_accuracy: 0.9760\n",
            "Epoch 17/30\n",
            "1719/1719 [==============================] - 5s 3ms/step - loss: 0.0621 - accuracy: 0.9831 - val_loss: 0.0808 - val_accuracy: 0.9770\n",
            "Epoch 18/30\n",
            "1719/1719 [==============================] - 5s 3ms/step - loss: 0.0582 - accuracy: 0.9844 - val_loss: 0.0788 - val_accuracy: 0.9766\n",
            "Epoch 19/30\n",
            "1719/1719 [==============================] - 5s 3ms/step - loss: 0.0545 - accuracy: 0.9855 - val_loss: 0.0759 - val_accuracy: 0.9768\n",
            "Epoch 20/30\n",
            "1719/1719 [==============================] - 5s 3ms/step - loss: 0.0511 - accuracy: 0.9864 - val_loss: 0.0737 - val_accuracy: 0.9790\n",
            "Epoch 21/30\n",
            "1719/1719 [==============================] - 5s 3ms/step - loss: 0.0482 - accuracy: 0.9873 - val_loss: 0.0714 - val_accuracy: 0.9796\n",
            "Epoch 22/30\n",
            "1719/1719 [==============================] - 5s 3ms/step - loss: 0.0453 - accuracy: 0.9880 - val_loss: 0.0734 - val_accuracy: 0.9786\n",
            "Epoch 23/30\n",
            "1719/1719 [==============================] - 5s 3ms/step - loss: 0.0424 - accuracy: 0.9892 - val_loss: 0.0707 - val_accuracy: 0.9800\n",
            "Epoch 24/30\n",
            "1719/1719 [==============================] - 5s 3ms/step - loss: 0.0402 - accuracy: 0.9897 - val_loss: 0.0712 - val_accuracy: 0.9784\n",
            "Epoch 25/30\n",
            "1719/1719 [==============================] - 5s 3ms/step - loss: 0.0376 - accuracy: 0.9903 - val_loss: 0.0689 - val_accuracy: 0.9802\n",
            "Epoch 26/30\n",
            "1719/1719 [==============================] - 5s 3ms/step - loss: 0.0357 - accuracy: 0.9913 - val_loss: 0.0660 - val_accuracy: 0.9814\n",
            "Epoch 27/30\n",
            "1719/1719 [==============================] - 5s 3ms/step - loss: 0.0336 - accuracy: 0.9921 - val_loss: 0.0684 - val_accuracy: 0.9812\n",
            "Epoch 28/30\n",
            "1719/1719 [==============================] - 5s 3ms/step - loss: 0.0316 - accuracy: 0.9925 - val_loss: 0.0696 - val_accuracy: 0.9812\n",
            "Epoch 29/30\n",
            "1719/1719 [==============================] - 5s 3ms/step - loss: 0.0299 - accuracy: 0.9931 - val_loss: 0.0657 - val_accuracy: 0.9810\n",
            "Epoch 30/30\n",
            "1719/1719 [==============================] - 5s 3ms/step - loss: 0.0281 - accuracy: 0.9937 - val_loss: 0.0671 - val_accuracy: 0.9820\n"
          ]
        }
      ]
    },
    {
      "cell_type": "code",
      "metadata": {
        "colab": {
          "base_uri": "https://localhost:8080/",
          "height": 990
        },
        "id": "YAly0plC-lbA",
        "outputId": "70b920fc-babf-4980-8cc1-d1908657c4b9"
      },
      "source": [
        "pd.DataFrame(history.history)"
      ],
      "execution_count": 31,
      "outputs": [
        {
          "output_type": "execute_result",
          "data": {
            "text/html": [
              "<div>\n",
              "<style scoped>\n",
              "    .dataframe tbody tr th:only-of-type {\n",
              "        vertical-align: middle;\n",
              "    }\n",
              "\n",
              "    .dataframe tbody tr th {\n",
              "        vertical-align: top;\n",
              "    }\n",
              "\n",
              "    .dataframe thead th {\n",
              "        text-align: right;\n",
              "    }\n",
              "</style>\n",
              "<table border=\"1\" class=\"dataframe\">\n",
              "  <thead>\n",
              "    <tr style=\"text-align: right;\">\n",
              "      <th></th>\n",
              "      <th>loss</th>\n",
              "      <th>accuracy</th>\n",
              "      <th>val_loss</th>\n",
              "      <th>val_accuracy</th>\n",
              "    </tr>\n",
              "  </thead>\n",
              "  <tbody>\n",
              "    <tr>\n",
              "      <th>0</th>\n",
              "      <td>0.598694</td>\n",
              "      <td>0.844891</td>\n",
              "      <td>0.305869</td>\n",
              "      <td>0.9134</td>\n",
              "    </tr>\n",
              "    <tr>\n",
              "      <th>1</th>\n",
              "      <td>0.286859</td>\n",
              "      <td>0.917673</td>\n",
              "      <td>0.241058</td>\n",
              "      <td>0.9316</td>\n",
              "    </tr>\n",
              "    <tr>\n",
              "      <th>2</th>\n",
              "      <td>0.233187</td>\n",
              "      <td>0.933709</td>\n",
              "      <td>0.200945</td>\n",
              "      <td>0.9448</td>\n",
              "    </tr>\n",
              "    <tr>\n",
              "      <th>3</th>\n",
              "      <td>0.198890</td>\n",
              "      <td>0.943491</td>\n",
              "      <td>0.173253</td>\n",
              "      <td>0.9498</td>\n",
              "    </tr>\n",
              "    <tr>\n",
              "      <th>4</th>\n",
              "      <td>0.173968</td>\n",
              "      <td>0.950527</td>\n",
              "      <td>0.153211</td>\n",
              "      <td>0.9578</td>\n",
              "    </tr>\n",
              "    <tr>\n",
              "      <th>5</th>\n",
              "      <td>0.154188</td>\n",
              "      <td>0.955745</td>\n",
              "      <td>0.142641</td>\n",
              "      <td>0.9624</td>\n",
              "    </tr>\n",
              "    <tr>\n",
              "      <th>6</th>\n",
              "      <td>0.138570</td>\n",
              "      <td>0.960109</td>\n",
              "      <td>0.129297</td>\n",
              "      <td>0.9662</td>\n",
              "    </tr>\n",
              "    <tr>\n",
              "      <th>7</th>\n",
              "      <td>0.125303</td>\n",
              "      <td>0.964018</td>\n",
              "      <td>0.122046</td>\n",
              "      <td>0.9668</td>\n",
              "    </tr>\n",
              "    <tr>\n",
              "      <th>8</th>\n",
              "      <td>0.114191</td>\n",
              "      <td>0.967964</td>\n",
              "      <td>0.112797</td>\n",
              "      <td>0.9708</td>\n",
              "    </tr>\n",
              "    <tr>\n",
              "      <th>9</th>\n",
              "      <td>0.104895</td>\n",
              "      <td>0.970600</td>\n",
              "      <td>0.107713</td>\n",
              "      <td>0.9724</td>\n",
              "    </tr>\n",
              "    <tr>\n",
              "      <th>10</th>\n",
              "      <td>0.095831</td>\n",
              "      <td>0.972727</td>\n",
              "      <td>0.102398</td>\n",
              "      <td>0.9722</td>\n",
              "    </tr>\n",
              "    <tr>\n",
              "      <th>11</th>\n",
              "      <td>0.088900</td>\n",
              "      <td>0.974727</td>\n",
              "      <td>0.097400</td>\n",
              "      <td>0.9734</td>\n",
              "    </tr>\n",
              "    <tr>\n",
              "      <th>12</th>\n",
              "      <td>0.082390</td>\n",
              "      <td>0.977164</td>\n",
              "      <td>0.093163</td>\n",
              "      <td>0.9748</td>\n",
              "    </tr>\n",
              "    <tr>\n",
              "      <th>13</th>\n",
              "      <td>0.076421</td>\n",
              "      <td>0.978855</td>\n",
              "      <td>0.088347</td>\n",
              "      <td>0.9758</td>\n",
              "    </tr>\n",
              "    <tr>\n",
              "      <th>14</th>\n",
              "      <td>0.071068</td>\n",
              "      <td>0.980691</td>\n",
              "      <td>0.087828</td>\n",
              "      <td>0.9744</td>\n",
              "    </tr>\n",
              "    <tr>\n",
              "      <th>15</th>\n",
              "      <td>0.066441</td>\n",
              "      <td>0.981564</td>\n",
              "      <td>0.083040</td>\n",
              "      <td>0.9760</td>\n",
              "    </tr>\n",
              "    <tr>\n",
              "      <th>16</th>\n",
              "      <td>0.062069</td>\n",
              "      <td>0.983109</td>\n",
              "      <td>0.080813</td>\n",
              "      <td>0.9770</td>\n",
              "    </tr>\n",
              "    <tr>\n",
              "      <th>17</th>\n",
              "      <td>0.058189</td>\n",
              "      <td>0.984418</td>\n",
              "      <td>0.078792</td>\n",
              "      <td>0.9766</td>\n",
              "    </tr>\n",
              "    <tr>\n",
              "      <th>18</th>\n",
              "      <td>0.054520</td>\n",
              "      <td>0.985527</td>\n",
              "      <td>0.075866</td>\n",
              "      <td>0.9768</td>\n",
              "    </tr>\n",
              "    <tr>\n",
              "      <th>19</th>\n",
              "      <td>0.051100</td>\n",
              "      <td>0.986436</td>\n",
              "      <td>0.073703</td>\n",
              "      <td>0.9790</td>\n",
              "    </tr>\n",
              "    <tr>\n",
              "      <th>20</th>\n",
              "      <td>0.048175</td>\n",
              "      <td>0.987273</td>\n",
              "      <td>0.071426</td>\n",
              "      <td>0.9796</td>\n",
              "    </tr>\n",
              "    <tr>\n",
              "      <th>21</th>\n",
              "      <td>0.045295</td>\n",
              "      <td>0.987982</td>\n",
              "      <td>0.073381</td>\n",
              "      <td>0.9786</td>\n",
              "    </tr>\n",
              "    <tr>\n",
              "      <th>22</th>\n",
              "      <td>0.042376</td>\n",
              "      <td>0.989218</td>\n",
              "      <td>0.070666</td>\n",
              "      <td>0.9800</td>\n",
              "    </tr>\n",
              "    <tr>\n",
              "      <th>23</th>\n",
              "      <td>0.040172</td>\n",
              "      <td>0.989655</td>\n",
              "      <td>0.071154</td>\n",
              "      <td>0.9784</td>\n",
              "    </tr>\n",
              "    <tr>\n",
              "      <th>24</th>\n",
              "      <td>0.037598</td>\n",
              "      <td>0.990255</td>\n",
              "      <td>0.068877</td>\n",
              "      <td>0.9802</td>\n",
              "    </tr>\n",
              "    <tr>\n",
              "      <th>25</th>\n",
              "      <td>0.035708</td>\n",
              "      <td>0.991291</td>\n",
              "      <td>0.066021</td>\n",
              "      <td>0.9814</td>\n",
              "    </tr>\n",
              "    <tr>\n",
              "      <th>26</th>\n",
              "      <td>0.033550</td>\n",
              "      <td>0.992145</td>\n",
              "      <td>0.068414</td>\n",
              "      <td>0.9812</td>\n",
              "    </tr>\n",
              "    <tr>\n",
              "      <th>27</th>\n",
              "      <td>0.031637</td>\n",
              "      <td>0.992509</td>\n",
              "      <td>0.069583</td>\n",
              "      <td>0.9812</td>\n",
              "    </tr>\n",
              "    <tr>\n",
              "      <th>28</th>\n",
              "      <td>0.029933</td>\n",
              "      <td>0.993091</td>\n",
              "      <td>0.065690</td>\n",
              "      <td>0.9810</td>\n",
              "    </tr>\n",
              "    <tr>\n",
              "      <th>29</th>\n",
              "      <td>0.028144</td>\n",
              "      <td>0.993673</td>\n",
              "      <td>0.067079</td>\n",
              "      <td>0.9820</td>\n",
              "    </tr>\n",
              "  </tbody>\n",
              "</table>\n",
              "</div>"
            ],
            "text/plain": [
              "        loss  accuracy  val_loss  val_accuracy\n",
              "0   0.598694  0.844891  0.305869        0.9134\n",
              "1   0.286859  0.917673  0.241058        0.9316\n",
              "2   0.233187  0.933709  0.200945        0.9448\n",
              "3   0.198890  0.943491  0.173253        0.9498\n",
              "4   0.173968  0.950527  0.153211        0.9578\n",
              "5   0.154188  0.955745  0.142641        0.9624\n",
              "6   0.138570  0.960109  0.129297        0.9662\n",
              "7   0.125303  0.964018  0.122046        0.9668\n",
              "8   0.114191  0.967964  0.112797        0.9708\n",
              "9   0.104895  0.970600  0.107713        0.9724\n",
              "10  0.095831  0.972727  0.102398        0.9722\n",
              "11  0.088900  0.974727  0.097400        0.9734\n",
              "12  0.082390  0.977164  0.093163        0.9748\n",
              "13  0.076421  0.978855  0.088347        0.9758\n",
              "14  0.071068  0.980691  0.087828        0.9744\n",
              "15  0.066441  0.981564  0.083040        0.9760\n",
              "16  0.062069  0.983109  0.080813        0.9770\n",
              "17  0.058189  0.984418  0.078792        0.9766\n",
              "18  0.054520  0.985527  0.075866        0.9768\n",
              "19  0.051100  0.986436  0.073703        0.9790\n",
              "20  0.048175  0.987273  0.071426        0.9796\n",
              "21  0.045295  0.987982  0.073381        0.9786\n",
              "22  0.042376  0.989218  0.070666        0.9800\n",
              "23  0.040172  0.989655  0.071154        0.9784\n",
              "24  0.037598  0.990255  0.068877        0.9802\n",
              "25  0.035708  0.991291  0.066021        0.9814\n",
              "26  0.033550  0.992145  0.068414        0.9812\n",
              "27  0.031637  0.992509  0.069583        0.9812\n",
              "28  0.029933  0.993091  0.065690        0.9810\n",
              "29  0.028144  0.993673  0.067079        0.9820"
            ]
          },
          "metadata": {},
          "execution_count": 31
        }
      ]
    },
    {
      "cell_type": "code",
      "metadata": {
        "colab": {
          "base_uri": "https://localhost:8080/",
          "height": 500
        },
        "id": "Qqx2kM4Y-leN",
        "outputId": "039d765e-d362-4429-ecd4-4b9ff8cff756"
      },
      "source": [
        "pd.DataFrame(history.history).plot(figsize=(10 ,8))\n",
        "plt.grid(True)\n",
        "plt.show"
      ],
      "execution_count": 34,
      "outputs": [
        {
          "output_type": "execute_result",
          "data": {
            "text/plain": [
              "<function matplotlib.pyplot.show>"
            ]
          },
          "metadata": {},
          "execution_count": 34
        },
        {
          "output_type": "display_data",
          "data": {
            "image/png": "[encoded data removed]",
            "text/plain": [
              "<Figure size 720x576 with 1 Axes>"
            ]
          },
          "metadata": {
            "needs_background": "light"
          }
        }
      ]
    },
    {
      "cell_type": "code",
      "metadata": {
        "colab": {
          "base_uri": "https://localhost:8080/"
        },
        "id": "25BKZGyZ-lmc",
        "outputId": "61fa0c4e-7761-41a1-adfd-5f212697bf9d"
      },
      "source": [
        "model_clf.evaluate(X_test , y_test)"
      ],
      "execution_count": 35,
      "outputs": [
        {
          "output_type": "stream",
          "name": "stdout",
          "text": [
            "313/313 [==============================] - 1s 2ms/step - loss: 0.0723 - accuracy: 0.9778\n"
          ]
        },
        {
          "output_type": "execute_result",
          "data": {
            "text/plain": [
              "[0.0722600519657135, 0.9778000116348267]"
            ]
          },
          "metadata": {},
          "execution_count": 35
        }
      ]
    },
    {
      "cell_type": "code",
      "metadata": {
        "colab": {
          "base_uri": "https://localhost:8080/"
        },
        "id": "WM9so-g1-lo2",
        "outputId": "251e5a00-f91b-493b-ec2a-874800e51798"
      },
      "source": [
        "x_new = X_test[:3]\n",
        "\n",
        "y_prob = model_clf.predict(x_new)\n",
        "\n",
        "y_prob.round(3)"
      ],
      "execution_count": 36,
      "outputs": [
        {
          "output_type": "execute_result",
          "data": {
            "text/plain": [
              "array([[0.   , 0.   , 0.   , 0.   , 0.   , 0.   , 0.   , 1.   , 0.   ,\n",
              "        0.   ],\n",
              "       [0.   , 0.   , 1.   , 0.   , 0.   , 0.   , 0.   , 0.   , 0.   ,\n",
              "        0.   ],\n",
              "       [0.   , 0.998, 0.001, 0.   , 0.   , 0.   , 0.   , 0.001, 0.   ,\n",
              "        0.   ]], dtype=float32)"
            ]
          },
          "metadata": {},
          "execution_count": 36
        }
      ]
    },
    {
      "cell_type": "code",
      "metadata": {
        "colab": {
          "base_uri": "https://localhost:8080/"
        },
        "id": "rWQXrKWsAOl2",
        "outputId": "1d12de35-9f16-4597-e555-59966fe0f117"
      },
      "source": [
        "y_prob.shape"
      ],
      "execution_count": 38,
      "outputs": [
        {
          "output_type": "execute_result",
          "data": {
            "text/plain": [
              "(3, 10)"
            ]
          },
          "metadata": {},
          "execution_count": 38
        }
      ]
    },
    {
      "cell_type": "code",
      "metadata": {
        "colab": {
          "base_uri": "https://localhost:8080/"
        },
        "id": "oB5ZqXZ-Abid",
        "outputId": "e74b1793-a089-45fc-c628-2a14815aae02"
      },
      "source": [
        "y_prob"
      ],
      "execution_count": 39,
      "outputs": [
        {
          "output_type": "execute_result",
          "data": {
            "text/plain": [
              "array([[2.9212572e-07, 8.3871925e-08, 1.8351717e-05, 3.3195963e-04,\n",
              "        1.2249086e-08, 2.3873824e-07, 1.3876643e-12, 9.9964237e-01,\n",
              "        8.7797702e-07, 5.7104398e-06],\n",
              "       [6.4065813e-07, 3.2697301e-04, 9.9965477e-01, 8.5189549e-06,\n",
              "        8.2901646e-12, 4.7108475e-07, 1.3184799e-06, 6.9318428e-13,\n",
              "        7.3368187e-06, 7.1008812e-14],\n",
              "       [6.1251221e-06, 9.9785173e-01, 5.0320110e-04, 7.8741825e-05,\n",
              "        3.4126671e-04, 2.7252103e-05, 7.6599565e-05, 6.3632400e-04,\n",
              "        4.6900302e-04, 9.8321689e-06]], dtype=float32)"
            ]
          },
          "metadata": {},
          "execution_count": 39
        }
      ]
    },
    {
      "cell_type": "code",
      "metadata": {
        "colab": {
          "base_uri": "https://localhost:8080/"
        },
        "id": "aop0fVqfAesh",
        "outputId": "313f83f7-44a0-4d9a-c8db-9408bfda8bd2"
      },
      "source": [
        "y_pred = np.argmax(y_prob  , axis=-1)\n",
        "y_pred"
      ],
      "execution_count": 44,
      "outputs": [
        {
          "output_type": "execute_result",
          "data": {
            "text/plain": [
              "array([7, 2, 1])"
            ]
          },
          "metadata": {},
          "execution_count": 44
        }
      ]
    },
    {
      "cell_type": "code",
      "metadata": {
        "colab": {
          "base_uri": "https://localhost:8080/",
          "height": 810
        },
        "id": "FWn4kjRMA3_S",
        "outputId": "ea866aef-6903-4d3e-8ea1-6c79a0370d4c"
      },
      "source": [
        "for img_array , pred , actual in zip(x_new , y_pred , y_test[:3]):\n",
        "  plt.imshow(img_array , cmap=\"binary\")\n",
        "  plt.title(f\"Predicted : {pred} , Actual : {actual}\")\n",
        "  plt.axis(\"off\")\n",
        "  plt.show()\n",
        "  print(\"-------\"*20)"
      ],
      "execution_count": 46,
      "outputs": [
        {
          "output_type": "display_data",
          "data": {
            "image/png": "[encoded data removed]",
            "text/plain": [
              "<Figure size 432x288 with 1 Axes>"
            ]
          },
          "metadata": {
            "needs_background": "light"
          }
        },
        {
          "output_type": "stream",
          "name": "stdout",
          "text": [
            "--------------------------------------------------------------------------------------------------------------------------------------------\n"
          ]
        },
        {
          "output_type": "display_data",
          "data": {
            "image/png": "[encoded data removed]",
            "text/plain": [
              "<Figure size 432x288 with 1 Axes>"
            ]
          },
          "metadata": {
            "needs_background": "light"
          }
        },
        {
          "output_type": "stream",
          "name": "stdout",
          "text": [
            "--------------------------------------------------------------------------------------------------------------------------------------------\n"
          ]
        },
        {
          "output_type": "display_data",
          "data": {
            "image/png": "[encoded data removed]",
            "text/plain": [
              "<Figure size 432x288 with 1 Axes>"
            ]
          },
          "metadata": {
            "needs_background": "light"
          }
        },
        {
          "output_type": "stream",
          "name": "stdout",
          "text": [
            "--------------------------------------------------------------------------------------------------------------------------------------------\n"
          ]
        }
      ]
    }
  ]
}